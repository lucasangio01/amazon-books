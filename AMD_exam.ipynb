{
  "nbformat": 4,
  "nbformat_minor": 0,
  "metadata": {
    "colab": {
      "provenance": [],
      "collapsed_sections": [
        "d9N_jjO5e1t4",
        "yR4Goy5zpg6X",
        "JOuFZKTSBOTP",
        "hpGjcuPin-E6",
        "H7Gr28Ha5E80"
      ],
      "mount_file_id": "1Zpx0obSPDZ7GUZyo3SCiIMAttOSa9Pd6",
      "authorship_tag": "ABX9TyNvH6YRmmIz+YJbV/0jmLjS",
      "include_colab_link": true
    },
    "kernelspec": {
      "name": "python3",
      "display_name": "Python 3"
    },
    "language_info": {
      "name": "python"
    }
  },
  "cells": [
    {
      "cell_type": "markdown",
      "metadata": {
        "id": "view-in-github",
        "colab_type": "text"
      },
      "source": [
        "<a href=\"https://colab.research.google.com/github/lucasangio01/amazon-books/blob/master/AMD_exam.ipynb\" target=\"_parent\"><img src=\"https://colab.research.google.com/assets/colab-badge.svg\" alt=\"Open In Colab\"/></a>"
      ]
    },
    {
      "cell_type": "markdown",
      "source": [
        "# Imports"
      ],
      "metadata": {
        "id": "T1eBj6txNJBg"
      }
    },
    {
      "cell_type": "code",
      "source": [
        "!apt-get install openjdk-11-jdk -y\n",
        "!pip install  --quiet pandas numpy pyspark spark-nlp kaggle"
      ],
      "metadata": {
        "id": "FFrzN9FTCL3Z"
      },
      "execution_count": null,
      "outputs": []
    },
    {
      "cell_type": "code",
      "source": [
        "import numpy as np\n",
        "import matplotlib.pyplot as plt\n",
        "import seaborn as sns\n",
        "import umap\n",
        "import requests\n",
        "import os\n",
        "from google.colab import files\n",
        "import zipfile\n",
        "\n",
        "from sklearn.preprocessing import StandardScaler\n",
        "from sklearn.cluster import KMeans\n",
        "\n",
        "import pyspark\n",
        "from pyspark.sql import SparkSession\n",
        "from pyspark.sql.functions import count, when, from_unixtime, length, year, col, array_size, udf, avg, collect_list, row_number, expr, collect_list, concat_ws\n",
        "from pyspark.sql.types import ArrayType, FloatType, StructType, StructField, IntegerType, StringType\n",
        "from pyspark.sql.window import Window\n",
        "\n",
        "from pyspark.ml import Pipeline\n",
        "from pyspark.ml.feature import HashingTF, IDF, BucketedRandomProjectionLSH, Normalizer, MinHashLSH\n",
        "from pyspark.ml.linalg import Vectors, VectorUDT, DenseVector\n",
        "\n",
        "from sparknlp.pretrained import PretrainedPipeline\n",
        "from sparknlp.base import DocumentAssembler, Finisher\n",
        "from sparknlp.annotator import Tokenizer, StopWordsCleaner, LemmatizerModel, SentenceDetectorDLModel, NorvigSweetingModel, BertSentenceEmbeddings"
      ],
      "metadata": {
        "id": "_Y-OFyODIh0Q"
      },
      "execution_count": 69,
      "outputs": []
    },
    {
      "cell_type": "code",
      "execution_count": 70,
      "metadata": {
        "colab": {
          "base_uri": "https://localhost:8080/"
        },
        "id": "sQmOyl9XDtBn",
        "outputId": "7e9fc4ac-63b1-4899-a615-a4a9022a3b7b",
        "collapsed": true
      },
      "outputs": [
        {
          "output_type": "stream",
          "name": "stdout",
          "text": [
            "The datasets have already been downloaded, and are in the directory.\n"
          ]
        }
      ],
      "source": [
        "if not os.path.exists(\"/content/amazon-books-reviews.zip\"):\n",
        "\n",
        "  uploaded = files.upload()\n",
        "\n",
        "  !rm -r ~/.kaggle\n",
        "  !mkdir ~/.kaggle\n",
        "  !mv ./kaggle.json ~/.kaggle/\n",
        "  !chmod 600 ~/.kaggle/kaggle.json\n",
        "\n",
        "  !kaggle datasets download -d mohamedbakhet/amazon-books-reviews\n",
        "\n",
        "  print(\"\\nFiles downloaded!\\nUnzipping the csv files...\")\n",
        "\n",
        "  zip_ref = zipfile.ZipFile('amazon-books-reviews.zip', 'r')\n",
        "  zip_ref.extractall('/content')\n",
        "  zip_ref.close()\n",
        "\n",
        "  print(\"\\nDatasets unzipped and ready to use!\")\n",
        "\n",
        "else:\n",
        "  print(\"The datasets have already been downloaded, and are in the directory.\")"
      ]
    },
    {
      "cell_type": "markdown",
      "source": [
        "\n",
        "\n",
        "---\n",
        "\n",
        "\n",
        "# Load data"
      ],
      "metadata": {
        "id": "Yp3U8oswMs6E"
      }
    },
    {
      "cell_type": "code",
      "source": [
        "def load_duplicated_titles(file_path=\"https://raw.githubusercontent.com/lucasangio01/amazon-books/master/data/duplicated_titles.txt\"):\n",
        "    response = requests.get(file_path)\n",
        "    response.raise_for_status()\n",
        "    return [line.strip() for line in response.text.splitlines() if line.strip()]"
      ],
      "metadata": {
        "id": "FPFApSOrZjL_"
      },
      "execution_count": 55,
      "outputs": []
    },
    {
      "cell_type": "code",
      "source": [
        "# some books have duplicates, with some differences in the title. We only keep one of each\n",
        "def load_data(spark, chosen_data):\n",
        "\n",
        "  duplicated_titles = load_duplicated_titles()\n",
        "  duplicated_df = spark.createDataFrame([(title,) for title in duplicated_titles], [\"book_title\"])\n",
        "\n",
        "  reviews_schema = StructType([\n",
        "      StructField(\"Id\", IntegerType(), True),\n",
        "      StructField(\"Title\", StringType(), True),\n",
        "      StructField(\"Price\", IntegerType(), True),\n",
        "      StructField(\"User_id\", StringType(), True),\n",
        "      StructField(\"profileName\", StringType(), True),\n",
        "      StructField(\"review/helpfulness\", StringType(), True),\n",
        "      StructField(\"review/score\", FloatType(), True),\n",
        "      StructField(\"review/time\", IntegerType(), True),\n",
        "      StructField(\"review/summary\", StringType(), True),\n",
        "      StructField(\"review/text\", StringType(), True)\n",
        "      ])\n",
        "\n",
        "  books_data_schema = StructType([\n",
        "    StructField(\"Title\", StringType(), True),\n",
        "    StructField(\"description\", StringType(), True),\n",
        "    StructField(\"categories\", StringType(), True)\n",
        "    ])\n",
        "\n",
        "  original_df = (spark.read.csv(\"../content/Books_rating.csv\", header = True, schema = reviews_schema)\n",
        "      .drop(\"Price\", \"profileName\", \"review/summary\")\n",
        "      .filter(length(\"review/text\").between(300, 600))  # only keeping reviews between 300 and 600 characters\n",
        "      .dropna()\n",
        "      .withColumn(\"review_year\", year(from_unixtime(\"review/time\")))\n",
        "      .drop(\"review/time\")\n",
        "      .withColumn(\"review/score\", col(\"review/score\").cast(IntegerType()))\n",
        "      .withColumnRenamed(\"Id\", \"book_id\")\n",
        "      .withColumnRenamed(\"Title\", \"book_title\")\n",
        "      .withColumnRenamed(\"User_id\", \"user_id\")\n",
        "      .withColumnRenamed(\"review/helpfulness\", \"review_helpfulness\")\n",
        "      .withColumnRenamed(\"review/score\", \"review_score\")\n",
        "      .withColumnRenamed(\"review/text\", \"review_text\")\n",
        "      .cache()\n",
        "      )\n",
        "\n",
        "  reviews_per_book = 50\n",
        "\n",
        "  if chosen_data == \"big_only_fiction\": # choose if you want to analyze only the \"fiction\" books or all the categories\n",
        "    min_reviews = 50\n",
        "  elif chosen_data == \"small_full\": # choose if you want to analyze a smaller subset of the data, for faster (but less informative) results\n",
        "    min_reviews = 260\n",
        "\n",
        "  famous_titles = original_df.select(\"book_title\").groupBy(\"book_title\").count().filter(col(\"count\") > min_reviews).drop(\"count\")    # select the books with a certain number of reviews\n",
        "  df_reviews = original_df.select(\"book_title\", \"review_text\").join(famous_titles, on=\"book_title\", how=\"inner\").join(duplicated_df, on=\"book_title\", how=\"left_anti\")\n",
        "  original_df.unpersist()\n",
        "\n",
        "  \"\"\"\n",
        "  Bigger dataset: only fiction (6750 x 135)\n",
        "  Small dataset: full(800 x 16)\n",
        "  \"\"\"\n",
        "\n",
        "  if chosen_data == \"big_only_fiction\":  # choose if you want to analyze only the \"fiction\" books\n",
        "    titles_list = df_reviews.select(\"book_title\").distinct()\n",
        "    books_data_full = spark.read.csv(\"../content/books_data.csv\", inferSchema = True, header = True).select(\"Title\", \"categories\", \"description\").withColumnRenamed(\"Title\", \"book_title\").dropna().filter(col(\"categories\") == \"['Fiction']\").join(titles_list, on=\"book_title\", how=\"inner\").cache()\n",
        "    books_with_description = books_data_full.select(\"book_title\", \"description\").cache()\n",
        "\n",
        "  window_spec = Window.partitionBy(\"book_title\").orderBy(\"review_text\")\n",
        "  df_reviews = df_reviews.withColumn(\"row_num\", row_number().over(window_spec)).filter(col(\"row_num\") <= reviews_per_book) # select how many reviews to use for the analysis, for each book\n",
        "\n",
        "  if chosen_data == \"big_only_fiction\":\n",
        "    df_reviews = df_reviews.drop(\"row_num\", \"description\").join(books_data_full, on = \"book_title\", how = \"inner\").cache()\n",
        "    df_descriptions = books_data_full.select(\"book_title\", \"description\").cache()\n",
        "    return df_reviews, df_descriptions\n",
        "  else:\n",
        "    df_reviews = df_reviews.drop(\"row_num\").cache()\n",
        "    return df_reviews, None\n"
      ],
      "metadata": {
        "id": "Y5EG6L1lJP8L"
      },
      "execution_count": 56,
      "outputs": []
    },
    {
      "cell_type": "markdown",
      "source": [
        "# Core functions"
      ],
      "metadata": {
        "id": "d9N_jjO5e1t4"
      }
    },
    {
      "cell_type": "code",
      "source": [
        "def pretrained_pipeline(dataset):\n",
        "\n",
        "  if dataset == df_reviews:\n",
        "    text_column = \"review_text\"\n",
        "  else:\n",
        "    text_column = \"description\"\n",
        "\n",
        "  document_assembler = DocumentAssembler().setInputCol(text_column).setOutputCol(\"document\")\n",
        "  sentence_embeddings = BertSentenceEmbeddings().pretrained(\"sent_small_bert_L2_128\", \"en\").setInputCols([\"document\"]).setOutputCol(\"embeddings\")\n",
        "  pipeline = Pipeline(stages = [document_assembler, sentence_embeddings])\n",
        "\n",
        "  result = pipeline.fit(dataset).transform(dataset)\n",
        "  extract_embedding = udf(lambda arr: arr[0].embeddings, ArrayType(FloatType()))\n",
        "  result = result.withColumn(\"embedding_vector\", extract_embedding(\"embeddings\")).select(\"book_title\", \"embedding_vector\")\n",
        "\n",
        "  to_vector_udf = udf(lambda arr: Vectors.dense(arr), VectorUDT())\n",
        "  result = result.withColumn(\"embedding_vector_ml\", to_vector_udf(\"embedding_vector\")).select(\"book_title\", \"embedding_vector_ml\")\n",
        "\n",
        "  return result"
      ],
      "metadata": {
        "id": "blXxfS9eLWRM"
      },
      "execution_count": 57,
      "outputs": []
    },
    {
      "cell_type": "code",
      "source": [
        "def custom_pipeline(dataset):\n",
        "\n",
        "  if dataset == df_reviews:\n",
        "    text_column = \"review_text\"\n",
        "  else:\n",
        "    text_column = \"description\"\n",
        "\n",
        "  document_assembler = DocumentAssembler().setInputCol(text_column).setOutputCol(\"document\")\n",
        "  tokenizer = Tokenizer().setInputCols([\"document\"]).setOutputCol(\"token\")\n",
        "  stopwords_cleaner = StopWordsCleaner().setInputCols([\"token\"]).setOutputCol(\"clean_tokens\").setCaseSensitive(False)\n",
        "  lemmatizer = LemmatizerModel.pretrained().setInputCols([\"clean_tokens\"]).setOutputCol(\"lemma\")\n",
        "  finisher = Finisher().setInputCols([\"lemma\"]).setCleanAnnotations(True)\n",
        "\n",
        "  pipeline = Pipeline(stages = [document_assembler, tokenizer, stopwords_cleaner, lemmatizer, finisher])\n",
        "  result = pipeline.fit(dataset).transform(dataset).select(\"book_title\", \"finished_lemma\")\n",
        "\n",
        "  return result"
      ],
      "metadata": {
        "id": "uojrsdeCfrQK"
      },
      "execution_count": 58,
      "outputs": []
    },
    {
      "cell_type": "code",
      "source": [
        "def average_vectors(vectors):\n",
        "\n",
        "    arrays = np.array([v.toArray() for v in vectors])\n",
        "    avg_arr = np.mean(arrays, axis=0)\n",
        "\n",
        "    return DenseVector(avg_arr)\n",
        "\n",
        "\n",
        "def group_vectors(embedded_data):\n",
        "\n",
        "  avg_udf = udf(average_vectors, VectorUDT())\n",
        "  book_embeddings = embedded_data.groupBy(\"book_title\").agg(collect_list(\"embedding_vector_ml\").alias(\"embeddings_list\")).withColumn(\"book_embedding\", avg_udf(\"embeddings_list\")).select(\"book_title\", \"book_embedding\")\n",
        "\n",
        "  normalizer = Normalizer(inputCol = \"book_embedding\", outputCol = \"norm_embedding\", p = 2.0)\n",
        "  book_embeddings = normalizer.transform(book_embeddings).select(\"book_title\", \"norm_embedding\")\n",
        "\n",
        "  return book_embeddings\n",
        "\n",
        "\n",
        "def group_text(dataset):\n",
        "\n",
        "  if dataset == df_reviews:\n",
        "    text_column = \"review_text\"\n",
        "  else:\n",
        "    text_column = \"description\"\n",
        "\n",
        "  return (dataset.groupBy(\"book_title\").agg(concat_ws(\" \", collect_list(text_column)).alias(text_column)))"
      ],
      "metadata": {
        "id": "13KZfpJiLQwV"
      },
      "execution_count": 59,
      "outputs": []
    },
    {
      "cell_type": "code",
      "source": [
        "def compute_cosine_similarity(grouped_reviews):\n",
        "\n",
        "  lsh = BucketedRandomProjectionLSH(inputCol = \"norm_embedding\", outputCol = \"hashes\", bucketLength = 2.0, numHashTables = 3)\n",
        "  cosine_similarity_model = lsh.fit(grouped_reviews)\n",
        "  similar_books_cosine = cosine_similarity_model.approxSimilarityJoin(grouped_reviews, grouped_reviews, threshold = 0.4, distCol = \"distance\").filter(\"datasetA.book_title < datasetB.book_title\").withColumn(\"cosine_similarity\", (1 - col(\"distance\"))).selectExpr(\"datasetA.book_title as book1\", \"datasetB.book_title as book2\", \"cosine_similarity\").orderBy(\"cosine_similarity\", ascending = False)\n",
        "\n",
        "  return similar_books_cosine\n",
        "\n",
        "\n",
        "def compute_jaccard_similarity(grouped_reviews):\n",
        "\n",
        "  hashingTF = HashingTF(inputCol = \"finished_lemma\", outputCol = \"features\", numFeatures = 10000)\n",
        "  featurized = hashingTF.transform(grouped_reviews)\n",
        "  mh = MinHashLSH(inputCol = \"features\", outputCol = \"hashes\", numHashTables = 3)\n",
        "\n",
        "  jaccard_similarity_model = mh.fit(featurized)\n",
        "  similar_books_jaccard = jaccard_similarity_model.approxSimilarityJoin(featurized, featurized, threshold = 0.9, distCol=\"jaccard_distance\").filter(\"datasetA.book_title < datasetB.book_title\").withColumn(\"jaccard_similarity\", 1 - col(\"jaccard_distance\")).selectExpr(\"datasetA.book_title as book1\", \"datasetB.book_title as book2\", \"jaccard_similarity\").orderBy(\"jaccard_similarity\", ascending = False)\n",
        "\n",
        "  return similar_books_jaccard"
      ],
      "metadata": {
        "id": "P9DatseF36eq"
      },
      "execution_count": 60,
      "outputs": []
    },
    {
      "cell_type": "markdown",
      "source": [
        "\n",
        "\n",
        "---\n",
        "\n",
        "# Notebook:"
      ],
      "metadata": {
        "id": "c8gENQDgM_61"
      }
    },
    {
      "cell_type": "markdown",
      "source": [
        "## Choose data"
      ],
      "metadata": {
        "id": "8n7BpUmappdH"
      }
    },
    {
      "cell_type": "code",
      "source": [
        "spark = (SparkSession.builder.appName(\"Books\").config(\"spark.jars.packages\", \"com.johnsnowlabs.nlp:spark-nlp_2.12:5.3.3\").getOrCreate())"
      ],
      "metadata": {
        "id": "Ge5etB-PJYAe"
      },
      "execution_count": 61,
      "outputs": []
    },
    {
      "cell_type": "code",
      "source": [
        "\"\"\"\n",
        "Bigger dataset: big_only_fiction (6750 x 135)\n",
        "Small dataset: small_full (800 x 16)\n",
        "\"\"\"\n",
        "\n",
        "chosen_data = \"big_only_fiction\"\n",
        "df_reviews, df_descriptions = load_data(spark, chosen_data)"
      ],
      "metadata": {
        "id": "hNbeDU6UJo1x"
      },
      "execution_count": 62,
      "outputs": []
    },
    {
      "cell_type": "code",
      "source": [
        "\"\"\"\n",
        "books_number = df_reviews.groupBy(\"book_title\").count()\n",
        "reviews_number = df_reviews.count()\n",
        "print(f\"Number of rows (reviews): {reviews_number}\\nNumber of books: {books_number.count()}\")\n",
        "\"\"\""
      ],
      "metadata": {
        "id": "IlZxmumkKn8E",
        "colab": {
          "base_uri": "https://localhost:8080/",
          "height": 35
        },
        "outputId": "08934564-1277-4324-f260-1db8ae7476ee"
      },
      "execution_count": 40,
      "outputs": [
        {
          "output_type": "execute_result",
          "data": {
            "text/plain": [
              "'\\nbooks_number = df_reviews.groupBy(\"book_title\").count()\\nreviews_number = df_reviews.count()\\nprint(f\"Number of rows (reviews): {reviews_number}\\nNumber of books: {books_number.count()}\")\\n'"
            ],
            "application/vnd.google.colaboratory.intrinsic+json": {
              "type": "string"
            }
          },
          "metadata": {},
          "execution_count": 40
        }
      ]
    },
    {
      "cell_type": "code",
      "source": [
        "\"\"\"books_number.sort(\"book_title\", ascending = True).show(150, truncate = False)\"\"\""
      ],
      "metadata": {
        "id": "yJ7XF82CKv5w",
        "collapsed": true,
        "colab": {
          "base_uri": "https://localhost:8080/",
          "height": 35
        },
        "outputId": "16925099-4d17-4eac-89d0-20e8b5565b68"
      },
      "execution_count": 41,
      "outputs": [
        {
          "output_type": "execute_result",
          "data": {
            "text/plain": [
              "'books_number.sort(\"book_title\", ascending = True).show(150, truncate = False)'"
            ],
            "application/vnd.google.colaboratory.intrinsic+json": {
              "type": "string"
            }
          },
          "metadata": {},
          "execution_count": 41
        }
      ]
    },
    {
      "cell_type": "markdown",
      "source": [
        "## Check Jaccard similarity of the books\n",
        "\n",
        "\n"
      ],
      "metadata": {
        "id": "yR4Goy5zpg6X"
      }
    },
    {
      "cell_type": "code",
      "source": [
        "customized_reviews_grouped = group_text(df_reviews)\n",
        "customized_reviews = custom_pipeline(customized_reviews_grouped)\n",
        "similar_reviews_jaccard = compute_jaccard_similarity(customized_reviews).cache()"
      ],
      "metadata": {
        "colab": {
          "base_uri": "https://localhost:8080/"
        },
        "collapsed": true,
        "id": "0102NT-NlTo0",
        "outputId": "ecc38aaf-7219-403f-8440-e0737cca38ad"
      },
      "execution_count": null,
      "outputs": [
        {
          "output_type": "stream",
          "name": "stdout",
          "text": [
            "lemma_antbnc download started this may take some time.\n",
            "Approximate size to download 907.6 KB\n",
            "[OK!]\n"
          ]
        }
      ]
    },
    {
      "cell_type": "markdown",
      "source": [
        "32 sec"
      ],
      "metadata": {
        "id": "FIpk2WHtTr1a"
      }
    },
    {
      "cell_type": "code",
      "source": [
        "#similar_reviews_jaccard.show(10)"
      ],
      "metadata": {
        "id": "kwlRQ3YOfaL6",
        "colab": {
          "base_uri": "https://localhost:8080/"
        },
        "outputId": "a0b3cdf3-b6a6-45fc-a612-ca7c1d02af41"
      },
      "execution_count": null,
      "outputs": [
        {
          "output_type": "stream",
          "name": "stdout",
          "text": [
            "+--------------------+--------------------+-------------------+\n",
            "|               book1|               book2| jaccard_similarity|\n",
            "+--------------------+--------------------+-------------------+\n",
            "|The Plains of Pas...|The Valley of Hor...| 0.2936170212765957|\n",
            "|City of Night (De...|Prodigal Son (Dea...|0.29243027888446216|\n",
            "|Lord Of Chaos (Tu...|The Fires Of Heav...| 0.2890682318415261|\n",
            "|Beneath a Marble ...|       Wish You Well|0.28270676691729324|\n",
            "|    Bend in the Road|True Believer (La...| 0.2814070351758794|\n",
            "|       Carolina Moon|       Wish You Well| 0.2806324110671936|\n",
            "|       Carolina Moon|      Naked in Death| 0.2760586319218241|\n",
            "|The Heart is a Lo...|       Wish You Well| 0.2757352941176471|\n",
            "|    Bend in the Road|       Wish You Well|0.27464788732394374|\n",
            "|       Carolina Moon|    Whitney, My Love|0.27235772357723576|\n",
            "+--------------------+--------------------+-------------------+\n",
            "only showing top 10 rows\n",
            "\n"
          ]
        }
      ]
    },
    {
      "cell_type": "code",
      "source": [
        "customized_descriptions_grouped = group_text(df_descriptions)\n",
        "customized_descriptions = custom_pipeline(customized_descriptions_grouped)\n",
        "similar_descriptions_jaccard = compute_jaccard_similarity(customized_descriptions).cache()"
      ],
      "metadata": {
        "colab": {
          "base_uri": "https://localhost:8080/"
        },
        "id": "yjzEPFaV01hj",
        "outputId": "2eed0b2c-aece-4f26-eb3e-36e22679087c"
      },
      "execution_count": null,
      "outputs": [
        {
          "output_type": "stream",
          "name": "stdout",
          "text": [
            "lemma_antbnc download started this may take some time.\n",
            "Approximate size to download 907.6 KB\n",
            "[OK!]\n"
          ]
        }
      ]
    },
    {
      "cell_type": "markdown",
      "source": [
        "4 sec"
      ],
      "metadata": {
        "id": "E2ucfP2RTtBd"
      }
    },
    {
      "cell_type": "code",
      "source": [
        "similar_descriptions_jaccard.show(10)"
      ],
      "metadata": {
        "id": "XW_lF1z-fh5S",
        "colab": {
          "base_uri": "https://localhost:8080/"
        },
        "outputId": "0c71f102-94a2-40b8-f6e8-f268226730bd"
      },
      "execution_count": null,
      "outputs": [
        {
          "output_type": "stream",
          "name": "stdout",
          "text": [
            "+--------------------+--------------------+-------------------+\n",
            "|               book1|               book2| jaccard_similarity|\n",
            "+--------------------+--------------------+-------------------+\n",
            "|City of Night (De...|Prodigal Son (Dea...| 0.5789473684210527|\n",
            "|      House of Mirth|Sense and Sensibi...|0.28301886792452824|\n",
            "|Memory in Death (...|True Believer (La...|0.12269938650306744|\n",
            "|Dreamcatcher Movi...|       Wish You Well|0.11895910780669139|\n",
            "|Dreamcatcher Movi...|        Little Women|0.11811023622047245|\n",
            "|Bridget Jones's D...| Pride and Prejudice|0.11764705882352944|\n",
            "|        Little Women|       Wish You Well|0.11267605633802813|\n",
            "|      Case Histories|     The Good German|0.10227272727272729|\n",
            "+--------------------+--------------------+-------------------+\n",
            "\n"
          ]
        }
      ]
    },
    {
      "cell_type": "markdown",
      "source": [
        "## Check cosine similarity of the books\n",
        "\n"
      ],
      "metadata": {
        "id": "JOuFZKTSBOTP"
      }
    },
    {
      "cell_type": "code",
      "source": [
        "embedded_reviews = pretrained_pipeline(df_reviews)\n",
        "embedded_reviews_grouped = group_vectors(embedded_reviews)\n",
        "similar_reviews_cosine = compute_cosine_similarity(embedded_reviews_grouped).cache()"
      ],
      "metadata": {
        "colab": {
          "base_uri": "https://localhost:8080/"
        },
        "id": "CAtxeKyTyVh5",
        "outputId": "c0717d7e-d3ba-4bcb-a4f9-a19b5ce1323d",
        "collapsed": true
      },
      "execution_count": null,
      "outputs": [
        {
          "output_type": "stream",
          "name": "stdout",
          "text": [
            "sent_small_bert_L2_128 download started this may take some time.\n",
            "Approximate size to download 16.1 MB\n",
            "[OK!]\n"
          ]
        }
      ]
    },
    {
      "cell_type": "markdown",
      "source": [
        "7 minutes"
      ],
      "metadata": {
        "id": "PvZSihs5Tm0J"
      }
    },
    {
      "cell_type": "code",
      "source": [
        "#similar_reviews_cosine.show(10, truncate = True)"
      ],
      "metadata": {
        "id": "_E8Das8DxoB9",
        "collapsed": true
      },
      "execution_count": null,
      "outputs": []
    },
    {
      "cell_type": "code",
      "source": [
        "embedded_descriptions = pretrained_pipeline(df_descriptions)\n",
        "embedded_descriptions_grouped = group_vectors(embedded_descriptions)\n",
        "similar_descriptions_cosine = compute_cosine_similarity(embedded_descriptions_grouped).cache()"
      ],
      "metadata": {
        "colab": {
          "base_uri": "https://localhost:8080/"
        },
        "id": "WNx3a8QjomJx",
        "outputId": "1f0e9ebf-7f76-47ff-c21b-fef555419d8d",
        "collapsed": true
      },
      "execution_count": null,
      "outputs": [
        {
          "output_type": "stream",
          "name": "stdout",
          "text": [
            "sent_small_bert_L2_128 download started this may take some time.\n",
            "Approximate size to download 16.1 MB\n",
            "[OK!]\n"
          ]
        }
      ]
    },
    {
      "cell_type": "markdown",
      "source": [
        "1 minute"
      ],
      "metadata": {
        "id": "XLnpCITjTpAo"
      }
    },
    {
      "cell_type": "code",
      "source": [
        "#similar_descriptions_cosine.show(10, truncate = True)"
      ],
      "metadata": {
        "id": "9ohUg2YS-QFA",
        "collapsed": true
      },
      "execution_count": null,
      "outputs": []
    },
    {
      "cell_type": "code",
      "source": [
        "chosen_book = \"Hannibal\"\n",
        "\n",
        "books_list_rev = similar_reviews_cosine.filter(col(\"book1\") == chosen_book)\n",
        "\n",
        "if books_list_rev.isEmpty():\n",
        "  print(\"Couldn't find the book. Try another one!\")\n",
        "else:\n",
        "  print(f\"Top 3 most similar books to {chosen_book}, according to user reviews (cosine similarity):\\n\")\n",
        "  books_list_rev.show(3, truncate = False)\n",
        "\n",
        "if books_list_rev.count() < 3:\n",
        "  print(\"\\nLess than 3 books are showing, since the similarity with other books is too low.\")"
      ],
      "metadata": {
        "id": "awg87YtQpA_U",
        "colab": {
          "base_uri": "https://localhost:8080/"
        },
        "outputId": "8acf5bfb-aebb-4c2b-b21d-350d0dd986f8"
      },
      "execution_count": null,
      "outputs": [
        {
          "output_type": "stream",
          "name": "stdout",
          "text": [
            "Top 3 most similar books to Hannibal, according to user reviews (cosine similarity):\n",
            "\n",
            "+--------+-------------------------------------------------+------------------+\n",
            "|book1   |book2                                            |cosine_similarity |\n",
            "+--------+-------------------------------------------------+------------------+\n",
            "|Hannibal|Wizard's First Rule (Sword of Truth, Book 1)     |0.8698363937058728|\n",
            "|Hannibal|The Shadow of the Wind Bestseller's Choice Audio |0.8567270949276233|\n",
            "|Hannibal|The Alchemist: A Fable about Following Your Dream|0.8449245108094463|\n",
            "+--------+-------------------------------------------------+------------------+\n",
            "only showing top 3 rows\n",
            "\n"
          ]
        }
      ]
    },
    {
      "cell_type": "code",
      "source": [
        "chosen_book = \"Moon Tiger\"\n",
        "\n",
        "books_list_descr = similar_descriptions_cosine.filter(col(\"book1\") == chosen_book)\n",
        "\n",
        "if books_list_descr.isEmpty():\n",
        "  print(\"Couldn't find the book. Try another one!\")\n",
        "else:\n",
        "  print(f\"Top 3 most similar books to {chosen_book}, according to book description (cosine similarity):\\n\")\n",
        "  books_list_descr.show(3, truncate = False)\n",
        "\n",
        "  if books_list_descr.count() < 3:\n",
        "    print(\"\\nLess than 3 books are showing, since the similarity with other books is too low.\")"
      ],
      "metadata": {
        "id": "7Krfhx5hpCuL",
        "colab": {
          "base_uri": "https://localhost:8080/"
        },
        "outputId": "482c6f4e-14b0-417b-92c0-0cb469c6e68e"
      },
      "execution_count": null,
      "outputs": [
        {
          "output_type": "stream",
          "name": "stdout",
          "text": [
            "Top 3 most similar books to Moon Tiger, according to book description (cosine similarity):\n",
            "\n",
            "+----------+----------------+------------------+\n",
            "|book1     |book2           |cosine_similarity |\n",
            "+----------+----------------+------------------+\n",
            "|Moon Tiger|The Pearl       |0.7189800640535702|\n",
            "|Moon Tiger|Whitney, My Love|0.6969640680856999|\n",
            "|Moon Tiger|The Reader      |0.689377755480393 |\n",
            "+----------+----------------+------------------+\n",
            "only showing top 3 rows\n",
            "\n"
          ]
        }
      ]
    },
    {
      "cell_type": "code",
      "source": [
        "first_book = \"Little Women\"\n",
        "second_book = \"Plainsong\"\n",
        "\n",
        "books_rev_1on1 = similar_reviews_cosine.filter((col(\"book1\") == first_book) & (col(\"book2\") == second_book))\n",
        "\n",
        "if books_rev_1on1.isEmpty():\n",
        "  print(\"Couldn't find the books. Try other ones!\")\n",
        "else:\n",
        "  print(f\"Cosine similarity between {first_book} and {second_book}, based on user reviews:\\n\")\n",
        "  books_rev_1on1.show(truncate = False)"
      ],
      "metadata": {
        "id": "uVnNhauopFBx"
      },
      "execution_count": null,
      "outputs": []
    },
    {
      "cell_type": "markdown",
      "source": [
        "## Comparing Jaccard and Cosine"
      ],
      "metadata": {
        "id": "hpGjcuPin-E6"
      }
    },
    {
      "cell_type": "code",
      "source": [
        "reviews_merged = similar_reviews_cosine.join(similar_reviews_jaccard, on = [\"book1\", \"book2\"], how = \"inner\")\n",
        "\n",
        "print(\"\\n\" + \"-\" * 100)\n",
        "print(f\"\\nSHOWING SIMILAR BOOKS BASED ON USERS REVIEWS - COSINE SIMILARITY VS JACCARD SIMILARITY\\nChosen dataset: {chosen_data}\\n\")\n",
        "\n",
        "reviews_merged.show(5, truncate = False)"
      ],
      "metadata": {
        "colab": {
          "base_uri": "https://localhost:8080/"
        },
        "id": "nrVO8bCWn5_t",
        "outputId": "42455c86-f156-43f8-8d6d-e6522fd7d101"
      },
      "execution_count": null,
      "outputs": [
        {
          "output_type": "stream",
          "name": "stdout",
          "text": [
            "\n",
            "----------------------------------------------------------------------------------------------------\n",
            "\n",
            "SHOWING SIMILAR BOOKS BASED ON USERS REVIEWS - COSINE SIMILARITY VS JACCARD SIMILARITY\n",
            "Chosen dataset: big_only_fiction\n",
            "\n",
            "+--------------------------------------------------------------------------------+--------------------------------------------------------------------------------------+------------------+-------------------+\n",
            "|book1                                                                           |book2                                                                                 |cosine_similarity |jaccard_similarity |\n",
            "+--------------------------------------------------------------------------------+--------------------------------------------------------------------------------------+------------------+-------------------+\n",
            "|The Plains of Passage (Earth's Children (Prebound))                             |The Valley of Horses (Earth's Children Series)                                        |0.9101000090906682|0.2936170212765957 |\n",
            "|City of Night (Dean Koontz's Frankenstein, Book 2)                              |Prodigal Son (Dean Koontz's Frankenstein, Book 1)                                     |0.9243558927508689|0.29243027888446216|\n",
            "|Lord Of Chaos (Turtleback School & Library Binding Edition) (Wheel of Time (Pb))|The Fires Of Heaven (Turtleback School & Library Binding Edition) (Wheel of Time (Pb))|0.9382876290812805|0.2890682318415261 |\n",
            "|Beneath a Marble Sky: A Novel of the Taj Mahal                                  |Wish You Well                                                                         |0.8832465000199301|0.28270676691729324|\n",
            "|Bend in the Road                                                                |True Believer (Large Print)                                                           |0.897614269307983 |0.2814070351758794 |\n",
            "+--------------------------------------------------------------------------------+--------------------------------------------------------------------------------------+------------------+-------------------+\n",
            "only showing top 5 rows\n",
            "\n"
          ]
        }
      ]
    },
    {
      "cell_type": "code",
      "source": [
        "descriptions_merged = similar_descriptions_cosine.join(similar_descriptions_jaccard, on = [\"book1\", \"book2\"], how = \"inner\")\n",
        "\n",
        "print(\"\\n\" + \"-\" * 100)\n",
        "print(f\"\\nSHOWING SIMILAR BOOKS BASED ON BOOK DESCRIPTION - COSINE SIMILARITY VS JACCARD SIMILARITY\\nChosen dataset: {chosen_data}\\n\")\n",
        "\n",
        "descriptions_merged.show(5, truncate = False)"
      ],
      "metadata": {
        "colab": {
          "base_uri": "https://localhost:8080/"
        },
        "id": "mKFJcWlloF2l",
        "outputId": "1e6e9859-c8f0-4d4b-9abb-7719652de753"
      },
      "execution_count": null,
      "outputs": [
        {
          "output_type": "stream",
          "name": "stdout",
          "text": [
            "\n",
            "----------------------------------------------------------------------------------------------------\n",
            "\n",
            "SHOWING SIMILAR BOOKS BASED ON BOOK DESCRIPTION - COSINE SIMILARITY VS JACCARD SIMILARITY\n",
            "Chosen dataset: big_only_fiction\n",
            "\n",
            "+--------------------------------------------------+-------------------------------------------------+------------------+-------------------+\n",
            "|book1                                             |book2                                            |cosine_similarity |jaccard_similarity |\n",
            "+--------------------------------------------------+-------------------------------------------------+------------------+-------------------+\n",
            "|City of Night (Dean Koontz's Frankenstein, Book 2)|Prodigal Son (Dean Koontz's Frankenstein, Book 1)|0.6263081692756656|0.5789473684210527 |\n",
            "|House of Mirth                                    |The Pearl                                        |0.6581280032237573|0.2911392405063291 |\n",
            "|House of Mirth                                    |Sense and Sensibility                            |0.613305192014211 |0.28301886792452824|\n",
            "|Anna Karenina                                     |The Pearl                                        |0.6390241580532465|0.2412060301507537 |\n",
            "|Memory in Death (In Death #22)                    |True Believer (Large Print)                      |0.612236878417062 |0.12269938650306744|\n",
            "+--------------------------------------------------+-------------------------------------------------+------------------+-------------------+\n",
            "only showing top 5 rows\n",
            "\n"
          ]
        }
      ]
    },
    {
      "cell_type": "markdown",
      "source": [
        "## Visualizations"
      ],
      "metadata": {
        "id": "H7Gr28Ha5E80"
      }
    },
    {
      "cell_type": "code",
      "source": [
        "embedded_reviews_grouped_pd = embedded_reviews_grouped.toPandas()\n",
        "\n",
        "norm_embeddings = np.vstack(embedded_reviews_grouped_pd[\"norm_embedding\"].values)\n",
        "norm_embeddings = StandardScaler().fit_transform(norm_embeddings)\n",
        "\n",
        "book_titles = embedded_reviews_grouped_pd[\"book_title\"].values"
      ],
      "metadata": {
        "id": "4jY60_Esywzz"
      },
      "execution_count": null,
      "outputs": []
    },
    {
      "cell_type": "code",
      "source": [
        "umap_model = umap.UMAP(n_neighbors=15, min_dist=0.1, random_state=42)\n",
        "norm_embeddings_2d = umap_model.fit_transform(norm_embeddings)"
      ],
      "metadata": {
        "colab": {
          "base_uri": "https://localhost:8080/"
        },
        "id": "e5V3CToj0Cva",
        "outputId": "e228af33-0187-44d4-dc78-41821450690c"
      },
      "execution_count": null,
      "outputs": [
        {
          "output_type": "stream",
          "name": "stderr",
          "text": [
            "/usr/local/lib/python3.11/dist-packages/umap/umap_.py:1952: UserWarning: n_jobs value 1 overridden to 1 by setting random_state. Use no seed for parallelism.\n",
            "  warn(\n"
          ]
        }
      ]
    },
    {
      "cell_type": "code",
      "source": [
        "plt.figure(figsize=(10, 8))\n",
        "sns.scatterplot(x = norm_embeddings_2d[:, 0], y = norm_embeddings_2d[:, 1], hue = book_titles, legend = False)\n",
        "\n",
        "for i, label in enumerate(book_titles):\n",
        "    plt.text(norm_embeddings_2d[i, 0], norm_embeddings_2d[i, 1], label[:15], fontsize=12)\n",
        "\n",
        "#plt.title(\"2D visualization of book embeddings\\n\")\n",
        "plt.xlabel(\"\\nDimension 1\", fontsize = 15)\n",
        "plt.ylabel(\"Dimension 2\\n\", fontsize = 15)\n",
        "plt.show()"
      ],
      "metadata": {
        "colab": {
          "base_uri": "https://localhost:8080/",
          "height": 725
        },
        "collapsed": true,
        "id": "E9Hny6a90S8h",
        "outputId": "2ff43cd8-c6ad-494c-9aee-c75686f1a0c6"
      },
      "execution_count": null,
      "outputs": [
        {
          "output_type": "display_data",
          "data": {
            "text/plain": [
              "<Figure size 1000x800 with 1 Axes>"
            ],
            "image/png": "[encoded data removed]"
          },
          "metadata": {}
        }
      ]
    },
    {
      "cell_type": "code",
      "source": [
        "import matplotlib.pyplot as plt\n",
        "import seaborn as sns\n",
        "import pandas as pd\n",
        "\n",
        "# Set style\n",
        "sns.set(style=\"whitegrid\")\n",
        "\n",
        "# Data\n",
        "data = {\n",
        "    \"Category\": [\"Reviews\", \"Reviews\", \"Descriptions\", \"Descriptions\"],\n",
        "    \"Similarity\": [\"Jaccard\", \"Cosine\", \"Jaccard\", \"Cosine\"],\n",
        "    \"Time (s)\": [32, 420, 4, 60]\n",
        "}\n",
        "\n",
        "df = pd.DataFrame(data)\n",
        "\n",
        "# Plot\n",
        "plt.figure(figsize=(8, 6))\n",
        "sns.barplot(data=df, x=\"Category\", y=\"Time (s)\", hue=\"Similarity\", palette=\"Set2\")\n",
        "\n",
        "# Add annotations\n",
        "for i, row in df.iterrows():\n",
        "    plt.text(i // 2 + (-0.15 if row[\"Similarity\"] == \"Jaccard\" else 0.1),\n",
        "             row[\"Time (s)\"] + 5,\n",
        "             f'{row[\"Time (s)\"]}s',\n",
        "             color='black', ha='center')\n",
        "\n",
        "plt.ylabel(\"Time (seconds)\\n\")\n",
        "plt.xlabel(\"\\nText Type\")\n",
        "plt.ylim(0, max(df[\"Time (s)\"]) + 50)\n",
        "plt.legend(title=\"Similarity Metric\")\n",
        "plt.tight_layout()\n",
        "plt.show()\n"
      ],
      "metadata": {
        "colab": {
          "base_uri": "https://localhost:8080/"
        },
        "collapsed": true,
        "id": "80O3pM4eUaMG",
        "outputId": "03f6a8c2-cf0a-489a-c603-651dd4cb5b7f"
      },
      "execution_count": null,
      "outputs": [
        {
          "output_type": "display_data",
          "data": {
            "text/plain": [
              "<Figure size 800x600 with 1 Axes>"
            ],
            "image/png": "[encoded data removed]"
          },
          "metadata": {}
        }
      ]
    }
  ]
}