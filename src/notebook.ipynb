{
 "cells": [
  {
   "cell_type": "markdown",
   "source": [
    "# Imports"
   ],
   "metadata": {
    "collapsed": false
   },
   "id": "c06f6d4d0e6c038"
  },
  {
   "cell_type": "code",
   "execution_count": null,
   "outputs": [],
   "source": [
    "from utils import *\n",
    "\n",
    "import numpy as np\n",
    "import matplotlib.pyplot as plt\n",
    "import seaborn as sns\n",
    "import umap.umap_ as umap\n",
    "\n",
    "from sklearn.preprocessing import StandardScaler\n",
    "from sklearn.cluster import KMeans\n",
    "\n",
    "import pyspark\n",
    "from pyspark.sql import SparkSession\n",
    "from pyspark.sql.functions import count, when, from_unixtime, length, year, col, array_size, udf, avg, collect_list, row_number, expr, collect_list, concat_ws\n",
    "from pyspark.sql.types import ArrayType, FloatType, StructType, StructField, IntegerType, StringType\n",
    "from pyspark.sql.window import Window\n",
    "\n",
    "from pyspark.ml import Pipeline\n",
    "from pyspark.ml.feature import HashingTF, IDF, BucketedRandomProjectionLSH, Normalizer, HashingTF, MinHashLSH\n",
    "from pyspark.ml.linalg import Vectors, VectorUDT, DenseVector\n",
    "\n",
    "from sparknlp.pretrained import PretrainedPipeline\n",
    "from sparknlp.base import DocumentAssembler, Finisher\n",
    "from sparknlp.annotator import Tokenizer, StopWordsCleaner, LemmatizerModel, SentenceDetectorDLModel, NorvigSweetingModel, BertSentenceEmbeddings"
   ],
   "metadata": {
    "collapsed": false
   },
   "id": "d60f9fec5400630b"
  },
  {
   "cell_type": "markdown",
   "source": [],
   "metadata": {
    "collapsed": false
   },
   "id": "76a27c0786f329f1"
  },
  {
   "cell_type": "markdown",
   "source": [
    "# Choose data"
   ],
   "metadata": {
    "collapsed": false
   },
   "id": "8b1a72f500acfd26"
  },
  {
   "cell_type": "code",
   "execution_count": 6,
   "outputs": [],
   "source": [
    "spark = (SparkSession.builder\n",
    "         .appName(\"Books\")\n",
    "         .config(\"spark.jars.packages\", \"com.johnsnowlabs.nlp:spark-nlp_2.12:6.0.1\")\n",
    "         .getOrCreate())"
   ],
   "metadata": {
    "collapsed": false,
    "ExecuteTime": {
     "end_time": "2025-06-25T12:37:10.275245600Z",
     "start_time": "2025-06-25T12:37:10.233728200Z"
    }
   },
   "id": "ce1185a7ec1a8283"
  },
  {
   "cell_type": "code",
   "execution_count": null,
   "outputs": [],
   "source": [
    "\"\"\"\n",
    "Bigger dataset: big_only_fiction (6750 x 135), big_full (6750 x 135)\n",
    "Trial dataset: trial_full (800 x 16)\n",
    "\"\"\"\n",
    "chosen_data = \"big_only_fiction\"\n",
    "df_reviews, df_descriptions = load_data(spark, chosen_data)"
   ],
   "metadata": {
    "collapsed": false
   },
   "id": "34d3f9941e7174e6"
  },
  {
   "cell_type": "code",
   "execution_count": null,
   "outputs": [],
   "source": [
    "books_number = df_reviews.groupBy(\"book_title\").count()\n",
    "reviews_number = df_reviews.count()\n",
    "print(f\"Number of rows (reviews): {reviews_number}\\nNumber of books: {books_number.count()}\")"
   ],
   "metadata": {
    "collapsed": false
   },
   "id": "2bebc6178921d239"
  },
  {
   "cell_type": "code",
   "execution_count": null,
   "outputs": [],
   "source": [
    "books_number.sort(\"book_title\", ascending = True).show(150, truncate = False)"
   ],
   "metadata": {
    "collapsed": false
   },
   "id": "3eac66d27dc509b9"
  },
  {
   "cell_type": "markdown",
   "source": [],
   "metadata": {
    "collapsed": false
   },
   "id": "b6a6daeccd8e2f60"
  },
  {
   "cell_type": "markdown",
   "source": [
    "# Check Jaccard similarity of the books\n"
   ],
   "metadata": {
    "collapsed": false
   },
   "id": "e64bc7c15dc6ab6e"
  },
  {
   "cell_type": "code",
   "execution_count": null,
   "outputs": [],
   "source": [
    "customized_reviews_grouped = group_text(df_reviews)\n",
    "customized_reviews = custom_pipeline(customized_reviews_grouped)\n",
    "similar_reviews_jaccard = compute_jaccard_similarity(customized_reviews).cache()\n",
    "\n",
    "print(\"\\n\" + \"-\" * 70)\n",
    "print(f\"\\nSHOWING SIMILAR BOOKS BASED ON USERS REVIEWS - METRIC: JACCARD SIMILARITY\\nChosen dataset: {chosen_data}\\n\")\n",
    "similar_reviews_jaccard.show(5, truncate = False)"
   ],
   "metadata": {
    "collapsed": false
   },
   "id": "38fe85c9bdd51c0e"
  },
  {
   "cell_type": "code",
   "execution_count": null,
   "outputs": [],
   "source": [
    "customized_descriptions_grouped = group_text(df_descriptions)\n",
    "customized_descriptions = custom_pipeline(customized_descriptions_grouped)\n",
    "similar_descriptions_jaccard = compute_jaccard_similarity(customized_descriptions).cache()\n",
    "\n",
    "print(\"\\n\" + \"-\" * 70)\n",
    "print(f\"\\nSHOWING SIMILAR BOOKS BASED ON BOOK DESCRIPTION - METRIC: COSINE SIMILARITY\\nChosen dataset: {chosen_data}\\n\")\n",
    "similar_descriptions_jaccard.show(5, truncate = False)"
   ],
   "metadata": {
    "collapsed": false
   },
   "id": "a9ad41121930b7f5"
  },
  {
   "cell_type": "markdown",
   "source": [],
   "metadata": {
    "collapsed": false
   },
   "id": "7e84c9613c45e424"
  },
  {
   "cell_type": "markdown",
   "source": [
    "## Check cosine similarity of the books"
   ],
   "metadata": {
    "collapsed": false
   },
   "id": "6a205635db860a7b"
  },
  {
   "cell_type": "code",
   "execution_count": null,
   "outputs": [],
   "source": [
    "embedded_reviews = pretrained_pipeline(df_reviews)\n",
    "embedded_reviews_grouped = group_vectors(embedded_reviews)\n",
    "similar_reviews_cosine = compute_cosine_similarity(embedded_reviews_grouped).cache()\n",
    "\n",
    "print(\"\\n\" + \"-\" * 70)\n",
    "print(f\"\\nSHOWING SIMILAR BOOKS BASED ON USERS REVIEWS - METRIC: COSINE SIMILARITY\\nChosen dataset: {chosen_data}\\n\")\n",
    "similar_reviews_cosine.show(5, truncate = False)"
   ],
   "metadata": {
    "collapsed": false
   },
   "id": "1e4fcfadd6ea4521"
  },
  {
   "cell_type": "code",
   "execution_count": null,
   "outputs": [],
   "source": [
    "embedded_descriptions = pretrained_pipeline(df_descriptions)\n",
    "embedded_descriptions_grouped = group_vectors(embedded_descriptions)\n",
    "similar_descriptions_cosine = compute_cosine_similarity(embedded_descriptions_grouped).cache()\n",
    "\n",
    "print(\"\\n\" + \"-\" * 70)\n",
    "print(f\"\\nSHOWING SIMILAR BOOKS BASED ON BOOK DESCRIPTION - METRIC: COSINE SIMILARITY\\nChosen dataset: {chosen_data}\\n\")\n",
    "similar_descriptions_cosine.show(5, truncate = False)"
   ],
   "metadata": {
    "collapsed": false
   },
   "id": "fa077ba404dcb1aa"
  },
  {
   "cell_type": "code",
   "execution_count": null,
   "outputs": [],
   "source": [
    "chosen_book = \"Little Women\"\n",
    "\n",
    "books_list_rev = similar_reviews_cosine.filter(col(\"book1\") == chosen_book)\n",
    "\n",
    "if books_list_rev.isEmpty():\n",
    "  print(\"Couldn't find the book. Try another one!\")\n",
    "else:\n",
    "  print(f\"Top 3 most similar books to {chosen_book}, according to user reviews:\\n\")\n",
    "  books_list_rev.show(3, truncate = False)\n",
    "\n",
    "if books_list_rev.count() < 3:\n",
    "  print(\"\\nLess than 3 books are showing, since the similarity with other books is too low.\")"
   ],
   "metadata": {
    "collapsed": false
   },
   "id": "61f61e17e4e739ee"
  },
  {
   "cell_type": "code",
   "execution_count": null,
   "outputs": [],
   "source": [
    "chosen_book = \"Little Women\"\n",
    "\n",
    "books_list_descr = similar_descriptions_cosine.filter(col(\"book1\") == chosen_book)\n",
    "\n",
    "if books_list_descr.isEmpty():\n",
    "  print(\"Couldn't find the book. Try another one!\")\n",
    "else:\n",
    "  print(f\"Top 3 most similar books to {chosen_book}, according to book description:\\n\")\n",
    "  books_list_descr.show(3, truncate = False)\n",
    "\n",
    "if books_list_descr.count() < 3:\n",
    "  print(\"\\nLess than 3 books are showing, since the similarity with other books is too low.\")"
   ],
   "metadata": {
    "collapsed": false
   },
   "id": "525b4c9e6a26fc34"
  },
  {
   "cell_type": "code",
   "execution_count": null,
   "outputs": [],
   "source": [
    "first_book = \"Little Women\"\n",
    "second_book = \"Plainsong\"\n",
    "\n",
    "books_rev_1on1 = similar_reviews_cosine.filter((col(\"book1\") == first_book) & (col(\"book2\") == second_book))\n",
    "\n",
    "if books_rev_1on1.isEmpty():\n",
    "  print(\"Couldn't find the books. Try other ones!\")\n",
    "else:\n",
    "  print(f\"Cosine similarity between {first_book} and {second_book}, based on user reviews:\\n\")\n",
    "  books_rev_1on1.show(truncate = False)"
   ],
   "metadata": {
    "collapsed": false
   },
   "id": "3a4fdba2ccbad38a"
  },
  {
   "cell_type": "markdown",
   "source": [],
   "metadata": {
    "collapsed": false
   },
   "id": "86d67768957e6ce6"
  },
  {
   "cell_type": "markdown",
   "source": [
    "# Visualizations"
   ],
   "metadata": {
    "collapsed": false
   },
   "id": "61dd63e05bae87eb"
  },
  {
   "cell_type": "code",
   "execution_count": null,
   "outputs": [],
   "source": [
    "grouped_reviews_pd = grouped_reviews.toPandas()\n",
    "\n",
    "norm_embeddings = np.vstack(grouped_reviews_pd[\"norm_embedding\"].values)\n",
    "norm_embeddings = StandardScaler().fit_transform(norm_embeddings)\n",
    "\n",
    "book_titles = grouped_reviews_pd[\"book_title\"].values"
   ],
   "metadata": {
    "collapsed": false
   },
   "id": "c2d29c807f137cd2"
  },
  {
   "cell_type": "code",
   "execution_count": null,
   "outputs": [],
   "source": [
    "umap_model = umap.UMAP(n_neighbors=15, min_dist=0.1, random_state=42)\n",
    "norm_embeddings_2d = umap_model.fit_transform(norm_embeddings)"
   ],
   "metadata": {
    "collapsed": false
   },
   "id": "63c03cb76f1ae36c"
  },
  {
   "cell_type": "code",
   "execution_count": null,
   "outputs": [],
   "source": [
    "plt.figure(figsize=(10, 8))\n",
    "sns.scatterplot(x = norm_embeddings_2d[:, 0], y = norm_embeddings_2d[:, 1], hue = book_titles, legend = False)\n",
    "\n",
    "for i, label in enumerate(book_titles):\n",
    "    plt.text(norm_embeddings_2d[i, 0], norm_embeddings_2d[i, 1], label[:15], fontsize=8)\n",
    "\n",
    "plt.title(\"2D visualization of book embeddings\\n\")\n",
    "plt.xlabel(\"\\nDimension 1\")\n",
    "plt.ylabel(\"Dimension 2\\n\")\n",
    "plt.show()"
   ],
   "metadata": {
    "collapsed": false
   },
   "id": "b27dcd0fc108bd4"
  }
 ],
 "metadata": {
  "kernelspec": {
   "display_name": "Python 3",
   "language": "python",
   "name": "python3"
  },
  "language_info": {
   "codemirror_mode": {
    "name": "ipython",
    "version": 2
   },
   "file_extension": ".py",
   "mimetype": "text/x-python",
   "name": "python",
   "nbconvert_exporter": "python",
   "pygments_lexer": "ipython2",
   "version": "2.7.6"
  }
 },
 "nbformat": 4,
 "nbformat_minor": 5
}
