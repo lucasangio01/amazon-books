{
 "cells": [
  {
   "cell_type": "code",
   "execution_count": null,
   "outputs": [],
   "source": [
    "from utils import *\n",
    "import numpy as np\n",
    "\n",
    "import pyspark\n",
    "from pyspark.sql import SparkSession\n",
    "from pyspark.sql.functions import count, when, from_unixtime, length, year, col, array_size, udf, avg, collect_list, row_number\n",
    "from pyspark.sql.types import ArrayType, FloatType, StructType, StructField, IntegerType, StringType\n",
    "from pyspark.sql.window import Window\n",
    "\n",
    "from pyspark.ml import Pipeline\n",
    "from pyspark.ml.feature import HashingTF, IDF, BucketedRandomProjectionLSH\n",
    "from pyspark.ml.linalg import Vectors, VectorUDT, DenseVector\n",
    "\n",
    "from sparknlp.pretrained import PretrainedPipeline\n",
    "from sparknlp.base import DocumentAssembler, Finisher\n",
    "from sparknlp.annotator import Tokenizer, StopWordsCleaner, LemmatizerModel, SentenceDetectorDLModel, NorvigSweetingModel, BertSentenceEmbeddings"
   ],
   "metadata": {
    "collapsed": false
   },
   "id": "d60f9fec5400630b"
  },
  {
   "cell_type": "code",
   "execution_count": 6,
   "outputs": [],
   "source": [
    "spark = (SparkSession.builder\n",
    "         .appName(\"Books\")\n",
    "         .config(\"spark.jars.packages\", \"com.johnsnowlabs.nlp:spark-nlp_2.12:6.0.1\")\n",
    "         .getOrCreate())"
   ],
   "metadata": {
    "collapsed": false,
    "ExecuteTime": {
     "end_time": "2025-06-25T12:37:10.275245600Z",
     "start_time": "2025-06-25T12:37:10.233728200Z"
    }
   },
   "id": "ce1185a7ec1a8283"
  },
  {
   "cell_type": "code",
   "execution_count": null,
   "outputs": [],
   "source": [
    "\"\"\"\n",
    "Bigger dataset: big_only_fiction (6750 x 135), big_full (6750 x 135)\n",
    "Trial dataset: trial_full (800 x 16)\n",
    "\"\"\"\n",
    "chosen_data = \"big_only_fiction\"\n",
    "df_reviews, df_descriptions = load_data(spark, chosen_data)"
   ],
   "metadata": {
    "collapsed": false
   },
   "id": "34d3f9941e7174e6"
  },
  {
   "cell_type": "code",
   "execution_count": null,
   "outputs": [],
   "source": [
    "books_number = df_reviews.groupBy(\"book_title\").count()\n",
    "reviews_number = df_reviews.count()\n",
    "print(f\"Number of rows (reviews): {reviews_number}\\nNumber of books: {books_number.count()}\")"
   ],
   "metadata": {
    "collapsed": false
   },
   "id": "2bebc6178921d239"
  },
  {
   "cell_type": "code",
   "execution_count": null,
   "outputs": [],
   "source": [
    "books_number.sort(\"book_title\", ascending = True).show(150, truncate = False)"
   ],
   "metadata": {
    "collapsed": false
   },
   "id": "3eac66d27dc509b9"
  },
  {
   "cell_type": "code",
   "execution_count": null,
   "outputs": [],
   "source": [
    "embedded_reviews = embedding_pipeline(df_reviews)\n",
    "grouped_reviews = group_vectors(embedded_reviews)\n",
    "similar_reviews = compute_similarity(grouped_reviews).cache()\n",
    "\n",
    "print(\"\\n\" + \"-\" * 50)\n",
    "print(f\"\\nSHOWING SIMILAR BOOKS BASED ON USERS REVIEWS\\nChosen dataset: {chosen_data}\\n\")\n",
    "similar_reviews.show(5, truncate = False)"
   ],
   "metadata": {
    "collapsed": false
   },
   "id": "1e4fcfadd6ea4521"
  },
  {
   "cell_type": "code",
   "execution_count": null,
   "outputs": [],
   "source": [
    "embedded_descriptions = embedding_pipeline(df_descriptions)\n",
    "grouped_descriptions = group_vectors(embedded_descriptions)\n",
    "similar_descriptions = compute_similarity(grouped_descriptions).cache()\n",
    "\n",
    "print(\"\\n\" + \"-\" * 50)\n",
    "print(f\"\\nSHOWING SIMILAR BOOKS BASED ON BOOK DESCRIPTION\\nChosen dataset: {chosen_data}\\n\")\n",
    "similar_descriptions.show(5, truncate = False)"
   ],
   "metadata": {
    "collapsed": false
   },
   "id": "fa077ba404dcb1aa"
  },
  {
   "cell_type": "code",
   "execution_count": null,
   "outputs": [],
   "source": [
    "chosen_book = \"Little Women\"\n",
    "\n",
    "books_list_rev = similar_reviews.filter(col(\"book1\") == chosen_book)\n",
    "\n",
    "if books_list_rev.isEmpty():\n",
    "  print(\"Couldn't find the book. Try another one!\")\n",
    "else:\n",
    "  print(f\"Top 3 most similar books to {chosen_book}, according to user reviews:\\n\")\n",
    "  books_list_rev.show(3, truncate = False)"
   ],
   "metadata": {
    "collapsed": false
   },
   "id": "61f61e17e4e739ee"
  },
  {
   "cell_type": "code",
   "execution_count": null,
   "outputs": [],
   "source": [
    "chosen_book = \"Little Women\"\n",
    "\n",
    "books_list_descr = similar_descriptions.filter(col(\"book1\") == chosen_book)\n",
    "\n",
    "if books_list_descr.isEmpty():\n",
    "  print(\"Couldn't find the book. Try another one!\")\n",
    "else:\n",
    "  print(f\"Top 3 most similar books to {chosen_book}, according to book description:\\n\")\n",
    "  books_list_descr.show(3, truncate = False)"
   ],
   "metadata": {
    "collapsed": false
   },
   "id": "525b4c9e6a26fc34"
  },
  {
   "cell_type": "code",
   "execution_count": null,
   "outputs": [],
   "source": [
    "first_book = \"Little Women\"\n",
    "second_book = \"The Picture of Dorian Gray\"\n",
    "\n",
    "books_rev_1on1 = similar_reviews.filter((col(\"book1\") == first_book) & (col(\"book2\") == second_book))\n",
    "\n",
    "if books_rev_1on1.isEmpty():\n",
    "  print(\"Couldn't find the books. Try other ones!\")\n",
    "else:\n",
    "  print(f\"Cosine similarity between {first_book} and {second_book}, based on user reviews:\\n\")\n",
    "  books_rev_1on1.show(truncate = False)"
   ],
   "metadata": {
    "collapsed": false
   },
   "id": "3a4fdba2ccbad38a"
  }
 ],
 "metadata": {
  "kernelspec": {
   "display_name": "Python 3",
   "language": "python",
   "name": "python3"
  },
  "language_info": {
   "codemirror_mode": {
    "name": "ipython",
    "version": 2
   },
   "file_extension": ".py",
   "mimetype": "text/x-python",
   "name": "python",
   "nbconvert_exporter": "python",
   "pygments_lexer": "ipython2",
   "version": "2.7.6"
  }
 },
 "nbformat": 4,
 "nbformat_minor": 5
}
